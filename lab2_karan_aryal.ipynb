{
 "cells": [
  {
   "metadata": {},
   "cell_type": "markdown",
   "source": [
    "Karan Aryal\n",
    "\n",
    "MSCS-634-B01\n",
    "\n",
    "Lab3: Classification Using KNN and RNN Algorithms"
   ],
   "id": "6808c22b0685ac4e"
  },
  {
   "metadata": {
    "ExecuteTime": {
     "end_time": "2025-07-20T20:59:30.357301Z",
     "start_time": "2025-07-20T20:59:29.892481Z"
    }
   },
   "cell_type": "code",
   "source": [
    "import pandas as pd\n",
    "import numpy as np\n",
    "import matplotlib.pyplot as plt\n",
    "import seaborn as sns\n",
    "from collections import Counter\n",
    "from sklearn.datasets import load_wine\n",
    "\n",
    "# Loading the dataset\n",
    "wine = load_wine()\n",
    "X = wine.data\n",
    "y = wine.target"
   ],
   "id": "56cf90e0f37b2dd5",
   "outputs": [],
   "execution_count": 2
  },
  {
   "metadata": {
    "ExecuteTime": {
     "end_time": "2025-07-20T20:59:32.259427Z",
     "start_time": "2025-07-20T20:59:32.253341Z"
    }
   },
   "cell_type": "code",
   "source": [
    "# Converting to DataFrame to explore\n",
    "df = pd.DataFrame(X, columns=wine.feature_names)\n",
    "df['target'] = y\n",
    "\n",
    "# Feature overview\n",
    "print(\"Feature Names:\\n\", wine.feature_names)\n",
    "print(\"Shape of dataset:\", df.shape)\n"
   ],
   "id": "4403add2a00eb24d",
   "outputs": [
    {
     "name": "stdout",
     "output_type": "stream",
     "text": [
      "Feature Names:\n",
      " ['alcohol', 'malic_acid', 'ash', 'alcalinity_of_ash', 'magnesium', 'total_phenols', 'flavanoids', 'nonflavanoid_phenols', 'proanthocyanins', 'color_intensity', 'hue', 'od280/od315_of_diluted_wines', 'proline']\n",
      "Shape of dataset: (178, 14)\n"
     ]
    }
   ],
   "execution_count": 3
  },
  {
   "metadata": {
    "ExecuteTime": {
     "end_time": "2025-07-20T20:59:43.135521Z",
     "start_time": "2025-07-20T20:59:43.116566Z"
    }
   },
   "cell_type": "code",
   "source": [
    "# Descriptive statistics\n",
    "print(\"Descriptive Statistics:\\n\", df.describe())\n"
   ],
   "id": "dd1c98f5bab862d2",
   "outputs": [
    {
     "name": "stdout",
     "output_type": "stream",
     "text": [
      "Descriptive Statistics:\n",
      "           alcohol  malic_acid         ash  alcalinity_of_ash   magnesium  \\\n",
      "count  178.000000  178.000000  178.000000         178.000000  178.000000   \n",
      "mean    13.000618    2.336348    2.366517          19.494944   99.741573   \n",
      "std      0.811827    1.117146    0.274344           3.339564   14.282484   \n",
      "min     11.030000    0.740000    1.360000          10.600000   70.000000   \n",
      "25%     12.362500    1.602500    2.210000          17.200000   88.000000   \n",
      "50%     13.050000    1.865000    2.360000          19.500000   98.000000   \n",
      "75%     13.677500    3.082500    2.557500          21.500000  107.000000   \n",
      "max     14.830000    5.800000    3.230000          30.000000  162.000000   \n",
      "\n",
      "       total_phenols  flavanoids  nonflavanoid_phenols  proanthocyanins  \\\n",
      "count     178.000000  178.000000            178.000000       178.000000   \n",
      "mean        2.295112    2.029270              0.361854         1.590899   \n",
      "std         0.625851    0.998859              0.124453         0.572359   \n",
      "min         0.980000    0.340000              0.130000         0.410000   \n",
      "25%         1.742500    1.205000              0.270000         1.250000   \n",
      "50%         2.355000    2.135000              0.340000         1.555000   \n",
      "75%         2.800000    2.875000              0.437500         1.950000   \n",
      "max         3.880000    5.080000              0.660000         3.580000   \n",
      "\n",
      "       color_intensity         hue  od280/od315_of_diluted_wines      proline  \\\n",
      "count       178.000000  178.000000                    178.000000   178.000000   \n",
      "mean          5.058090    0.957449                      2.611685   746.893258   \n",
      "std           2.318286    0.228572                      0.709990   314.907474   \n",
      "min           1.280000    0.480000                      1.270000   278.000000   \n",
      "25%           3.220000    0.782500                      1.937500   500.500000   \n",
      "50%           4.690000    0.965000                      2.780000   673.500000   \n",
      "75%           6.200000    1.120000                      3.170000   985.000000   \n",
      "max          13.000000    1.710000                      4.000000  1680.000000   \n",
      "\n",
      "           target  \n",
      "count  178.000000  \n",
      "mean     0.938202  \n",
      "std      0.775035  \n",
      "min      0.000000  \n",
      "25%      0.000000  \n",
      "50%      1.000000  \n",
      "75%      2.000000  \n",
      "max      2.000000  \n"
     ]
    }
   ],
   "execution_count": 4
  },
  {
   "metadata": {
    "ExecuteTime": {
     "end_time": "2025-07-20T20:59:49.497530Z",
     "start_time": "2025-07-20T20:59:49.494571Z"
    }
   },
   "cell_type": "code",
   "source": [
    "# Class distribution\n",
    "class_counts = Counter(y)\n",
    "print(\"Class Distribution:\", class_counts)\n"
   ],
   "id": "e70979872d046d57",
   "outputs": [
    {
     "name": "stdout",
     "output_type": "stream",
     "text": [
      "Class Distribution: Counter({np.int64(1): 71, np.int64(0): 59, np.int64(2): 48})\n"
     ]
    }
   ],
   "execution_count": 5
  },
  {
   "metadata": {
    "ExecuteTime": {
     "end_time": "2025-07-20T20:59:57.291775Z",
     "start_time": "2025-07-20T20:59:57.178829Z"
    }
   },
   "cell_type": "code",
   "source": [
    "# Visualizing class distribution using countplot\n",
    "sns.countplot(x='target', data=df)\n",
    "plt.title(\"Wine Class Distribution\")\n",
    "plt.xlabel(\"Class Label\")\n",
    "plt.ylabel(\"Frequency\")\n",
    "plt.show()"
   ],
   "id": "e5ecd78b720cab28",
   "outputs": [
    {
     "data": {
      "text/plain": [
       "<Figure size 640x480 with 1 Axes>"
      ],
      "image/png": "[encoded data removed]"
     },
     "metadata": {},
     "output_type": "display_data"
    }
   ],
   "execution_count": 6
  },
  {
   "metadata": {},
   "cell_type": "markdown",
   "source": "This dataset is not completely balanced but not wildly imbalanced either.",
   "id": "e06536888b056170"
  },
  {
   "metadata": {},
   "cell_type": "markdown",
   "source": "Training and Testing dataset and splitting into 80/20",
   "id": "38c13453fe6fcd9b"
  },
  {
   "metadata": {
    "ExecuteTime": {
     "end_time": "2025-07-20T21:01:45.292196Z",
     "start_time": "2025-07-20T21:01:45.208976Z"
    }
   },
   "cell_type": "code",
   "source": [
    "from sklearn.model_selection import train_test_split\n",
    "\n",
    "# 80/20 split\n",
    "X_train, X_test, y_train, y_test = train_test_split(\n",
    "    X, y, test_size=0.2, random_state=42, stratify=y\n",
    ")\n",
    "\n",
    "print(\"Training set size:\", X_train.shape[0])\n",
    "print(\"Testing set size:\", X_test.shape[0])"
   ],
   "id": "20c806adfc8fa905",
   "outputs": [
    {
     "name": "stdout",
     "output_type": "stream",
     "text": [
      "Training set size: 142\n",
      "Testing set size: 36\n"
     ]
    }
   ],
   "execution_count": 7
  },
  {
   "metadata": {},
   "cell_type": "markdown",
   "source": "Now, Implementing K-Nearest Neighbors",
   "id": "5e560aadb9b5ea68"
  },
  {
   "metadata": {
    "ExecuteTime": {
     "end_time": "2025-07-20T21:04:40.184034Z",
     "start_time": "2025-07-20T21:04:40.166285Z"
    }
   },
   "cell_type": "code",
   "source": [
    "from sklearn.neighbors import KNeighborsClassifier\n",
    "from sklearn.metrics import accuracy_score\n",
    "\n",
    "# Using k values as\n",
    "k_values = [1, 5, 11, 15, 21]\n",
    "accuracy_results = {}\n",
    "\n",
    "for k in k_values:\n",
    "\n",
    "    # Initializing KNN with current k\n",
    "    knn = KNeighborsClassifier(n_neighbors=k)\n",
    "\n",
    "    # Training the classifier\n",
    "    knn.fit(X_train, y_train)\n",
    "\n",
    "    # Predicting on test set\n",
    "    y_pred = knn.predict(X_test)\n",
    "\n",
    "    # Calculating accuracy\n",
    "    acc = accuracy_score(y_test, y_pred)\n",
    "    accuracy_results[k] = acc\n",
    "\n",
    "    print(f\"k = {k} with Accuracy = {acc:.4f}\")\n"
   ],
   "id": "9073058a944305d2",
   "outputs": [
    {
     "name": "stdout",
     "output_type": "stream",
     "text": [
      "k = 1 with Accuracy = 0.7778\n",
      "k = 5 with Accuracy = 0.8056\n",
      "k = 11 with Accuracy = 0.8056\n",
      "k = 15 with Accuracy = 0.8056\n",
      "k = 21 with Accuracy = 0.8056\n"
     ]
    }
   ],
   "execution_count": 12
  },
  {
   "metadata": {},
   "cell_type": "markdown",
   "source": [
    "k = 1: Achieves low accuracy maybe because the Wine dataset is relatively clean and small.\n",
    "\n",
    "k = 5 to 21: These are sweet spots; small enough to model local structure, but large enough to smooth over noise."
   ],
   "id": "d2c8874515a29f94"
  },
  {
   "metadata": {},
   "cell_type": "markdown",
   "source": "Now implementing RNN",
   "id": "c44d788241e9e8c5"
  },
  {
   "metadata": {
    "ExecuteTime": {
     "end_time": "2025-07-20T21:10:26.948544Z",
     "start_time": "2025-07-20T21:10:26.931294Z"
    }
   },
   "cell_type": "code",
   "source": [
    "from sklearn.neighbors import RadiusNeighborsClassifier\n",
    "\n",
    "radius_values = [350, 400, 450, 500, 550, 600]\n",
    "rnn_large_radius_results = {}\n",
    "\n",
    "# Iterate over specified radius values\n",
    "for r in radius_values:\n",
    "    rnn = RadiusNeighborsClassifier(radius=r, outlier_label=-1)\n",
    "    rnn.fit(X_train, y_train)\n",
    "\n",
    "    # Predict and compute accuracy\n",
    "    y_pred_rnn = rnn.predict(X_test)\n",
    "    acc_rnn = accuracy_score(y_test, y_pred_rnn)\n",
    "    rnn_large_radius_results[r] = acc\n",
    "\n",
    "    print(f\"Radius = {r} with Accuracy = {acc:.4f}\")\n"
   ],
   "id": "75c97ef2bd43125e",
   "outputs": [
    {
     "name": "stdout",
     "output_type": "stream",
     "text": [
      "Radius = 350 with Accuracy = 0.8056\n",
      "Radius = 400 with Accuracy = 0.8056\n",
      "Radius = 450 with Accuracy = 0.8056\n",
      "Radius = 500 with Accuracy = 0.8056\n",
      "Radius = 550 with Accuracy = 0.8056\n",
      "Radius = 600 with Accuracy = 0.8056\n"
     ]
    }
   ],
   "execution_count": 17
  },
  {
   "metadata": {},
   "cell_type": "markdown",
   "source": [
    "As the radius increases, the model covers more neighbors which generally increases accuracy up to a saturation point.\n",
    "Beyond that, you don’t gain much unless you include noise."
   ],
   "id": "c1121ddc78aeb85e"
  },
  {
   "metadata": {},
   "cell_type": "markdown",
   "source": "Visualizing and comparing result",
   "id": "f76a0790b628a370"
  },
  {
   "metadata": {},
   "cell_type": "markdown",
   "source": "Plot: Accuracy vs KNN",
   "id": "6f1f30cc0d98b940"
  },
  {
   "metadata": {
    "ExecuteTime": {
     "end_time": "2025-07-20T21:52:27.544939Z",
     "start_time": "2025-07-20T21:52:27.483259Z"
    }
   },
   "cell_type": "code",
   "source": [
    "import matplotlib.pyplot as plt\n",
    "\n",
    "# Accuracy data\n",
    "k_values = [1, 5, 11, 15, 21]\n",
    "knn_accuracy = [0.7778, 0.8056, 0.8056, 0.8056, 0.8056]\n",
    "\n",
    "# Create plot\n",
    "plt.figure(figsize=(8, 5))\n",
    "plt.plot(k_values, knn_accuracy, marker='o', linestyle='-', color='yellow', label='KNN Accuracy')\n",
    "plt.ylim(0.75, 0.85)\n",
    "\n",
    "# Add axis labels and title\n",
    "plt.xlabel(\"k (Number of Neighbors)\")\n",
    "plt.ylabel(\"Accuracy\")\n",
    "plt.title(\"KNN: Accuracy vs Number of Neighbors\")\n",
    "plt.grid(True)\n",
    "plt.legend()\n",
    "plt.tight_layout()\n",
    "plt.show()\n"
   ],
   "id": "81e55a0a8aba1fd9",
   "outputs": [
    {
     "data": {
      "text/plain": [
       "<Figure size 800x500 with 1 Axes>"
      ],
      "image/png": "[encoded data removed]"
     },
     "metadata": {},
     "output_type": "display_data"
    }
   ],
   "execution_count": 46
  },
  {
   "metadata": {},
   "cell_type": "markdown",
   "source": "Plot: Accuracy vs RNN",
   "id": "6132c583e17ba2eb"
  },
  {
   "metadata": {
    "ExecuteTime": {
     "end_time": "2025-07-20T21:52:14.678491Z",
     "start_time": "2025-07-20T21:52:14.615493Z"
    }
   },
   "cell_type": "code",
   "source": [
    "radius_values = [350, 400, 450, 500, 550, 600]\n",
    "rnn_accuracy = [0.8056] * 6  # Same value across all radius settings\n",
    "\n",
    "# Create plot\n",
    "plt.figure(figsize=(8, 5))\n",
    "plt.plot(radius_values, rnn_accuracy, marker='o', color='red', label='RNN Accuracy')\n",
    "\n",
    "# Create lables and title\n",
    "plt.title(\"RNN: Accuracy vs Radius\")\n",
    "plt.xlabel(\"Radius\")\n",
    "plt.ylabel(\"Accuracy\")\n",
    "plt.ylim(0.75, 0.85)\n",
    "plt.grid(True)\n",
    "plt.legend()\n",
    "plt.show()"
   ],
   "id": "bec090789a07f0e0",
   "outputs": [
    {
     "data": {
      "text/plain": [
       "<Figure size 800x500 with 1 Axes>"
      ],
      "image/png": "[encoded data removed]"
     },
     "metadata": {},
     "output_type": "display_data"
    }
   ],
   "execution_count": 45
  },
  {
   "metadata": {},
   "cell_type": "markdown",
   "source": [
    "Key Observations:\n",
    "\n",
    " KNN Observations\n",
    "\n",
    "    k = 1 slightly underperforms (accuracy = 0.7778); a classic sign of overfitting to noisy or fine-grained local structures.\n",
    "\n",
    "    All other k values (5 through 21) give identical accuracy (0.8056); suggesting either:\n",
    "\n",
    "        The dataset has relatively well-separated classes, or\n",
    "\n",
    "        The distance metrics aren't sensitive enough to benefit from tighter or looser neighborhoods.\n",
    "\n",
    "    Interpretation: The model is likely hitting a performance ceiling, perhaps due to feature scale issues, overlapping class distributions,\n",
    "    or limited test set size.\n",
    "\n",
    " RNN Observations\n",
    "\n",
    "    Accuracy is flat at 0.8056 for all radius values from 350 to 600.\n",
    "    This likely indicates that:\n",
    "\n",
    "        All test samples find neighbors within this radius range.\n",
    "\n",
    "        The number or identity of neighbors doesn’t change meaningfully, meaning the radius is beyond any critical threshold.\n",
    "\n",
    "    Interpretation: This is characteristic of overly large radius settings; the model behaves nearly like a global average classifier.\n",
    "    The prediction is dominated by the class frequency in a broad neighborhood."
   ],
   "id": "1ffb0f851a9a8cd5"
  },
  {
   "metadata": {},
   "cell_type": "markdown",
   "source": [
    "KNN vs RNN:\n",
    "\n",
    "When to Use KNN\n",
    "\n",
    "    If you want predictable, stable behavior across varying data densities.\n",
    "\n",
    "    If you prefer tuning with a discrete hyperparameter (k); easier to grid search and interpret.\n",
    "\n",
    "    If your data may contain sparse regions, and you want to avoid \"unclassified\" points.\n",
    "\n",
    "    If you’re working with well-separated classes and don’t want over-smoothing.\n",
    "\n",
    "    If you want a guaranteed prediction for every test sample (KNN always returns a label).\n",
    "\n",
    " When to Use RNN\n",
    "\n",
    "    If your domain has a natural notion of distance or proximity (e.g., spatial/geographic data).\n",
    "\n",
    "    If you want to restrict influence to a fixed local region, rather than a fixed number of neighbors.\n",
    "\n",
    "    If you’re okay with some test points being left unclassified if no neighbors are nearby.\n",
    "\n",
    "    If your dataset has uniform density, so a fixed radius gives consistent neighbor coverage.\n",
    "\n",
    "    If you want to encode a \"local voting zone\" explicitly, which can be more interpretable in physical contexts."
   ],
   "id": "929074b611018203"
  },
  {
   "metadata": {},
   "cell_type": "markdown",
   "source": "",
   "id": "b0d0c7070dd7396"
  }
 ],
 "metadata": {
  "kernelspec": {
   "display_name": "Python 3",
   "language": "python",
   "name": "python3"
  },
  "language_info": {
   "codemirror_mode": {
    "name": "ipython",
    "version": 2
   },
   "file_extension": ".py",
   "mimetype": "text/x-python",
   "name": "python",
   "nbconvert_exporter": "python",
   "pygments_lexer": "ipython2",
   "version": "2.7.6"
  }
 },
 "nbformat": 4,
 "nbformat_minor": 5
}
